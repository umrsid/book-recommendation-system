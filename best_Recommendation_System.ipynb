{
  "cells": [
    {
      "cell_type": "markdown",
      "metadata": {
        "id": "view-in-github",
        "colab_type": "text"
      },
      "source": [
        "<a href=\"https://colab.research.google.com/github/umrsid/book-recommendation-system/blob/main/best_Recommendation_System.ipynb\" target=\"_parent\"><img src=\"https://colab.research.google.com/assets/colab-badge.svg\" alt=\"Open In Colab\"/></a>"
      ]
    },
    {
      "cell_type": "markdown",
      "source": [
        "#preprocessing"
      ],
      "metadata": {
        "id": "rdvM5PCVFNSA"
      },
      "id": "rdvM5PCVFNSA"
    },
    {
      "cell_type": "code",
      "execution_count": null,
      "id": "c38d3012",
      "metadata": {
        "_cell_guid": "b1076dfc-b9ad-4769-8c92-a6c4dae69d19",
        "_uuid": "8f2839f25d086af736a60e9eeb907d3b93b6e0e5",
        "execution": {
          "iopub.execute_input": "2023-02-16T12:07:34.602715Z",
          "iopub.status.busy": "2023-02-16T12:07:34.601978Z",
          "iopub.status.idle": "2023-02-16T12:07:37.852491Z",
          "shell.execute_reply": "2023-02-16T12:07:37.850922Z"
        },
        "papermill": {
          "duration": 3.270192,
          "end_time": "2023-02-16T12:07:37.856347",
          "exception": false,
          "start_time": "2023-02-16T12:07:34.586155",
          "status": "completed"
        },
        "tags": [],
        "id": "c38d3012"
      },
      "outputs": [],
      "source": [
        "import numpy as np\n",
        "import pandas as pd \n",
        "import matplotlib.pyplot as plt\n",
        "import seaborn as sns\n",
        "\n",
        "books = pd.read_csv(\"Books.csv\")\n",
        "users = pd.read_csv(\"Users.csv\")\n",
        "ratings = pd.read_csv(\"Ratings.csv\")"
      ]
    },
    {
      "cell_type": "code",
      "execution_count": null,
      "id": "4eaea51e",
      "metadata": {
        "execution": {
          "iopub.execute_input": "2023-02-16T12:07:42.498549Z",
          "iopub.status.busy": "2023-02-16T12:07:42.497076Z",
          "iopub.status.idle": "2023-02-16T12:07:42.619851Z",
          "shell.execute_reply": "2023-02-16T12:07:42.618446Z"
        },
        "papermill": {
          "duration": 0.139683,
          "end_time": "2023-02-16T12:07:42.623119",
          "exception": false,
          "start_time": "2023-02-16T12:07:42.483436",
          "status": "completed"
        },
        "tags": [],
        "id": "4eaea51e"
      },
      "outputs": [],
      "source": [
        "# print(books.isnull().sum())\n",
        "# print(users.isnull().sum())\n",
        "# print(ratings.isnull().sum())"
      ]
    },
    {
      "cell_type": "code",
      "execution_count": null,
      "id": "01290052",
      "metadata": {
        "execution": {
          "iopub.execute_input": "2023-02-16T12:07:42.829783Z",
          "iopub.status.busy": "2023-02-16T12:07:42.828255Z",
          "iopub.status.idle": "2023-02-16T12:07:44.055496Z",
          "shell.execute_reply": "2023-02-16T12:07:44.053944Z"
        },
        "papermill": {
          "duration": 1.243723,
          "end_time": "2023-02-16T12:07:44.058397",
          "exception": false,
          "start_time": "2023-02-16T12:07:42.814674",
          "status": "completed"
        },
        "tags": [],
        "id": "01290052"
      },
      "outputs": [],
      "source": [
        "# print(books.duplicated().sum())\n",
        "# print(users.duplicated().sum())\n",
        "# print(ratings.duplicated().sum())"
      ]
    },
    {
      "cell_type": "code",
      "execution_count": null,
      "id": "ebfe7821",
      "metadata": {
        "execution": {
          "iopub.execute_input": "2023-02-16T12:07:44.085554Z",
          "iopub.status.busy": "2023-02-16T12:07:44.085041Z",
          "iopub.status.idle": "2023-02-16T12:07:45.133705Z",
          "shell.execute_reply": "2023-02-16T12:07:45.132192Z"
        },
        "papermill": {
          "duration": 1.066293,
          "end_time": "2023-02-16T12:07:45.136850",
          "exception": false,
          "start_time": "2023-02-16T12:07:44.070557",
          "status": "completed"
        },
        "tags": [],
        "id": "ebfe7821"
      },
      "outputs": [],
      "source": [
        "ratings_with_name = ratings.merge(books,on='ISBN')"
      ]
    },
    {
      "cell_type": "code",
      "execution_count": null,
      "id": "64c99182",
      "metadata": {
        "execution": {
          "iopub.execute_input": "2023-02-16T12:07:45.251206Z",
          "iopub.status.busy": "2023-02-16T12:07:45.250191Z",
          "iopub.status.idle": "2023-02-16T12:07:45.793043Z",
          "shell.execute_reply": "2023-02-16T12:07:45.791668Z"
        },
        "papermill": {
          "duration": 0.561315,
          "end_time": "2023-02-16T12:07:45.796327",
          "exception": false,
          "start_time": "2023-02-16T12:07:45.235012",
          "status": "completed"
        },
        "tags": [],
        "id": "64c99182"
      },
      "outputs": [],
      "source": [
        "ratings_with_name.drop(columns=[\"ISBN\",\"Image-URL-S\",\"Image-URL-M\"],axis=1,inplace=True)"
      ]
    },
    {
      "cell_type": "code",
      "execution_count": null,
      "id": "80d4c229",
      "metadata": {
        "execution": {
          "iopub.execute_input": "2023-02-16T12:07:45.824146Z",
          "iopub.status.busy": "2023-02-16T12:07:45.823683Z",
          "iopub.status.idle": "2023-02-16T12:07:46.492662Z",
          "shell.execute_reply": "2023-02-16T12:07:46.491464Z"
        },
        "papermill": {
          "duration": 0.686837,
          "end_time": "2023-02-16T12:07:46.495712",
          "exception": false,
          "start_time": "2023-02-16T12:07:45.808875",
          "status": "completed"
        },
        "tags": [],
        "id": "80d4c229"
      },
      "outputs": [],
      "source": [
        "complete_df = ratings_with_name.merge(users, on=\"User-ID\")\n",
        "complete_df.head()"
      ]
    },
    {
      "cell_type": "code",
      "execution_count": null,
      "id": "efb56dfb",
      "metadata": {
        "execution": {
          "iopub.execute_input": "2023-02-16T12:08:42.910688Z",
          "iopub.status.busy": "2023-02-16T12:08:42.910079Z",
          "iopub.status.idle": "2023-02-16T12:08:46.416202Z",
          "shell.execute_reply": "2023-02-16T12:08:46.414786Z"
        },
        "papermill": {
          "duration": 3.555451,
          "end_time": "2023-02-16T12:08:46.419996",
          "exception": false,
          "start_time": "2023-02-16T12:08:42.864545",
          "status": "completed"
        },
        "tags": [],
        "id": "efb56dfb"
      },
      "outputs": [],
      "source": [
        "complete_df['Location'] = complete_df['Location'].str.split(',') # to split by  \",\"\n",
        "complete_df['Location'] = complete_df['Location'].str[-1] # for last word which is a country name in this case\n",
        "complete_df['Location'] = complete_df['Location'].str.strip() # to remove spaces"
      ]
    },
    {
      "cell_type": "code",
      "execution_count": null,
      "id": "d948ba1e",
      "metadata": {
        "execution": {
          "iopub.execute_input": "2023-02-16T12:08:46.502525Z",
          "iopub.status.busy": "2023-02-16T12:08:46.502020Z",
          "iopub.status.idle": "2023-02-16T12:08:46.518360Z",
          "shell.execute_reply": "2023-02-16T12:08:46.517074Z"
        },
        "papermill": {
          "duration": 0.059358,
          "end_time": "2023-02-16T12:08:46.520878",
          "exception": false,
          "start_time": "2023-02-16T12:08:46.461520",
          "status": "completed"
        },
        "tags": [],
        "id": "d948ba1e"
      },
      "outputs": [],
      "source": [
        "complete_df.head()"
      ]
    },
    {
      "cell_type": "code",
      "execution_count": null,
      "id": "23804696",
      "metadata": {
        "execution": {
          "iopub.execute_input": "2023-02-16T12:08:46.603044Z",
          "iopub.status.busy": "2023-02-16T12:08:46.602614Z",
          "iopub.status.idle": "2023-02-16T12:08:46.686598Z",
          "shell.execute_reply": "2023-02-16T12:08:46.685427Z"
        },
        "papermill": {
          "duration": 0.129138,
          "end_time": "2023-02-16T12:08:46.689589",
          "exception": false,
          "start_time": "2023-02-16T12:08:46.560451",
          "status": "completed"
        },
        "tags": [],
        "id": "23804696"
      },
      "outputs": [],
      "source": [
        "complete_df[complete_df['Location']=='pakistan'].head()"
      ]
    },
    {
      "cell_type": "code",
      "execution_count": null,
      "id": "023c5eb6",
      "metadata": {
        "execution": {
          "iopub.execute_input": "2023-02-16T12:08:46.772574Z",
          "iopub.status.busy": "2023-02-16T12:08:46.772098Z",
          "iopub.status.idle": "2023-02-16T12:08:48.389394Z",
          "shell.execute_reply": "2023-02-16T12:08:48.388448Z"
        },
        "papermill": {
          "duration": 1.662339,
          "end_time": "2023-02-16T12:08:48.391857",
          "exception": false,
          "start_time": "2023-02-16T12:08:46.729518",
          "status": "completed"
        },
        "tags": [],
        "id": "023c5eb6"
      },
      "outputs": [],
      "source": [
        "num_rating_df = complete_df.groupby('Book-Title')['Book-Rating'].count().reset_index()\n",
        "num_rating_df.rename(columns={'Book-Rating': 'num_ratings'}, inplace=True)\n",
        "num_rating_df.head(11)"
      ]
    },
    {
      "cell_type": "code",
      "execution_count": null,
      "id": "119de426",
      "metadata": {
        "execution": {
          "iopub.execute_input": "2023-02-16T12:08:48.475614Z",
          "iopub.status.busy": "2023-02-16T12:08:48.474775Z",
          "iopub.status.idle": "2023-02-16T12:08:49.574717Z",
          "shell.execute_reply": "2023-02-16T12:08:49.573197Z"
        },
        "papermill": {
          "duration": 1.144948,
          "end_time": "2023-02-16T12:08:49.578052",
          "exception": false,
          "start_time": "2023-02-16T12:08:48.433104",
          "status": "completed"
        },
        "tags": [],
        "id": "119de426"
      },
      "outputs": [],
      "source": [
        "avg_rating_df = complete_df.groupby('Book-Title')['Book-Rating'].mean().reset_index()\n",
        "avg_rating_df.rename(columns={'Book-Rating': 'avg_ratings'}, inplace=True)\n",
        "avg_rating_df.head(10)"
      ]
    },
    {
      "cell_type": "code",
      "execution_count": null,
      "id": "f34caf08",
      "metadata": {
        "execution": {
          "iopub.execute_input": "2023-02-16T12:08:49.665808Z",
          "iopub.status.busy": "2023-02-16T12:08:49.665265Z",
          "iopub.status.idle": "2023-02-16T12:08:49.902284Z",
          "shell.execute_reply": "2023-02-16T12:08:49.900591Z"
        },
        "papermill": {
          "duration": 0.286396,
          "end_time": "2023-02-16T12:08:49.905891",
          "exception": false,
          "start_time": "2023-02-16T12:08:49.619495",
          "status": "completed"
        },
        "tags": [],
        "id": "f34caf08"
      },
      "outputs": [],
      "source": [
        "popularity_df = num_rating_df.merge(avg_rating_df, on='Book-Title')\n"
      ]
    },
    {
      "cell_type": "code",
      "execution_count": null,
      "id": "eea08693",
      "metadata": {
        "execution": {
          "iopub.execute_input": "2023-02-16T12:08:49.994832Z",
          "iopub.status.busy": "2023-02-16T12:08:49.994349Z",
          "iopub.status.idle": "2023-02-16T12:08:50.008724Z",
          "shell.execute_reply": "2023-02-16T12:08:50.007435Z"
        },
        "papermill": {
          "duration": 0.063945,
          "end_time": "2023-02-16T12:08:50.011638",
          "exception": false,
          "start_time": "2023-02-16T12:08:49.947693",
          "status": "completed"
        },
        "tags": [],
        "id": "eea08693"
      },
      "outputs": [],
      "source": [
        "# top_50 = popularity_df[popularity_df['num_ratings']>=350].sort_values(\"avg_ratings\", ascending=False)\n",
        "# top_50.head()\n",
        "# final_top_50 = top_50.merge(books, on='Book-Title').drop_duplicates('Book-Title')[['Book-Title','Book-Author','Publisher','num_ratings','avg_ratings','Image-URL-M']]\n",
        "# final_top_50['Image-URL-M'][0]\n",
        "# final_top_50.head()"
      ]
    },
    {
      "cell_type": "markdown",
      "id": "24bb75e4",
      "metadata": {
        "papermill": {
          "duration": 0.040921,
          "end_time": "2023-02-16T12:08:50.679457",
          "exception": false,
          "start_time": "2023-02-16T12:08:50.638536",
          "status": "completed"
        },
        "tags": [],
        "id": "24bb75e4"
      },
      "source": [
        "# model training"
      ]
    },
    {
      "cell_type": "code",
      "execution_count": null,
      "id": "11b57e24",
      "metadata": {
        "execution": {
          "iopub.execute_input": "2023-02-16T12:08:52.758927Z",
          "iopub.status.busy": "2023-02-16T12:08:52.758102Z",
          "iopub.status.idle": "2023-02-16T12:08:52.859061Z",
          "shell.execute_reply": "2023-02-16T12:08:52.857846Z"
        },
        "papermill": {
          "duration": 0.146596,
          "end_time": "2023-02-16T12:08:52.861673",
          "exception": false,
          "start_time": "2023-02-16T12:08:52.715077",
          "status": "completed"
        },
        "tags": [],
        "id": "11b57e24"
      },
      "outputs": [],
      "source": [
        "pt = final_ratings.pivot_table(index='Book-Title',columns='User-ID', values='Book-Rating')\n",
        "pt.fillna(0,inplace=True)\n",
        "pt"
      ]
    },
    {
      "cell_type": "code",
      "source": [
        "from sklearn.neighbors import NearestNeighbors\n",
        "model = NearestNeighbors(algorithm=\"brute\")\n",
        "model.fit(pt) "
      ],
      "metadata": {
        "id": "Wz6IbMFzGoz3"
      },
      "id": "Wz6IbMFzGoz3",
      "execution_count": null,
      "outputs": []
    },
    {
      "cell_type": "code",
      "source": [
        "# distance, suggestion = model.kneighbors(pt.iloc[237,:].values.reshape(1,-1),n_neighbors=6)\n",
        "# Testing the recommendation\n",
        "def rb(book_name):\n",
        "  book_id=np.where(pt.index==book_name)[0][0]\n",
        "  distance, suggestion = model.kneighbors(pt.iloc[book_id,:].values.reshape(1,-1),n_neighbors=4)\n",
        "  for i in range(len(suggestion)):\n",
        "    books=pt.index[suggestion[i]]\n",
        "    for j in books:\n",
        "      print(j)"
      ],
      "metadata": {
        "id": "cKF47eR7HE3h"
      },
      "id": "cKF47eR7HE3h",
      "execution_count": null,
      "outputs": []
    },
    {
      "cell_type": "code",
      "source": [
        "rb(\"1984\")"
      ],
      "metadata": {
        "colab": {
          "base_uri": "https://localhost:8080/"
        },
        "id": "e99D32ABHXmo",
        "outputId": "e6e902ce-0fe8-4eb6-c211-0327dfa6dd43"
      },
      "id": "e99D32ABHXmo",
      "execution_count": null,
      "outputs": [
        {
          "output_type": "stream",
          "name": "stdout",
          "text": [
            "1984\n",
            "No Safe Place\n",
            "A Civil Action\n",
            "Foucault's Pendulum\n",
            "Exclusive\n"
          ]
        }
      ]
    }
  ],
  "metadata": {
    "kernelspec": {
      "display_name": "Python 3",
      "language": "python",
      "name": "python3"
    },
    "language_info": {
      "codemirror_mode": {
        "name": "ipython",
        "version": 3
      },
      "file_extension": ".py",
      "mimetype": "text/x-python",
      "name": "python",
      "nbconvert_exporter": "python",
      "pygments_lexer": "ipython3",
      "version": "3.7.12"
    },
    "papermill": {
      "default_parameters": {},
      "duration": 92.969532,
      "end_time": "2023-02-16T12:08:57.510346",
      "environment_variables": {},
      "exception": null,
      "input_path": "__notebook__.ipynb",
      "output_path": "__notebook__.ipynb",
      "parameters": {},
      "start_time": "2023-02-16T12:07:24.540814",
      "version": "2.3.4"
    },
    "colab": {
      "provenance": [],
      "toc_visible": true,
      "include_colab_link": true
    }
  },
  "nbformat": 4,
  "nbformat_minor": 5
}